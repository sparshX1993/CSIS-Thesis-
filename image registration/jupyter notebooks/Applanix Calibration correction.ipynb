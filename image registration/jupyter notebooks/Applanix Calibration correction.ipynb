{
 "cells": [
  {
   "cell_type": "code",
   "execution_count": 1,
   "id": "a433c24c",
   "metadata": {},
   "outputs": [],
   "source": [
    "import numpy as np\n",
    "import sys\n",
    "import nest_asyncio\n",
    "import math \n",
    "from pyquaternion import Quaternion\n",
    "from geopy import distance\n",
    "from math import cos\n",
    "from math import sin\n",
    "from math import asin\n",
    "from math import atan2\n",
    "from haversine import Unit\n",
    "from pyproj import Proj\n",
    "import pyproj\n",
    "from math import cos, radians\n",
    "from scipy.spatial.transform import Rotation\n",
    "\n",
    "#import rasterio\n",
    "import random\n",
    "from natsort import natsorted,realsorted, ns\n",
    "from tqdm.notebook import trange, tqdm\n",
    "from time import sleep\n",
    "import osmnx as ox\n",
    "import haversine as hs\n",
    "import shutil\n",
    "from numpy import asarray\n",
    "from IPython import display\n",
    "import os\n",
    "from os import listdir\n",
    "import utm\n",
    "import geopandas\n",
    "from pathlib import Path\n",
    "import glob\n",
    "import concurrent.futures\n",
    "import geotiler\n",
    "import cv2 \n",
    "import matplotlib.pyplot as plt\n",
    "import h5py\n",
    "import imutils\n",
    "import mplleaflet\n",
    "from PIL import Image, ImageDraw\n",
    "%matplotlib inline"
   ]
  },
  {
   "cell_type": "code",
   "execution_count": 2,
   "id": "09ba0ce8",
   "metadata": {},
   "outputs": [],
   "source": [
    "Logname = 'AtCityBMW_Applanix-20220601T115459Z469'\n",
    "path = 'C:/Users/bjqb7h/Downloads/Thesis2022/GPS DATA/'\n",
    "path_position = 'sensors/ApplanixDGPS'\n",
    "path_orientation = 'sensors/ApplanixDGPS/orientation'\n",
    "path_timestamps = 'sensors/ApplanixDGPS/timestamps'\n",
    "path_meta = 'C:/Users/bjqb7h/Downloads/Thesis2022/Meta'\n",
    "\n",
    "hDF5_PATH = 'C:/Users/bjqb7h/Downloads/Thesis2022/NUMPY/New'\n",
    "dir0 = r'C:/Users/bjqb7h/Downloads/Thesis2022/HD Maps_1/Dataset/RadarGPS'\n",
    "dir1 = 'C:/Users/bjqb7h/Downloads/Thesis2022/HD Maps_Rotate/GPSRADAR/RotatedMAPS'\n",
    "dir2 = 'C:/Users/bjqb7h/Downloads/Thesis2022/HD Maps_Cropped/GPSRADAR'\n"
   ]
  },
  {
   "cell_type": "code",
   "execution_count": 3,
   "id": "93cbce78",
   "metadata": {},
   "outputs": [],
   "source": [
    "#Read Hdf5 filel for the Radar data and GPS data.\n",
    "hf1 = h5py.File(path+Logname+'.h5','r')\n",
    "dset = hf1[path_position]['position']\n",
    "dset1= hf1[path_orientation]\n",
    "dsetA = hf1.get(path_timestamps)\n",
    "GPSTimestamp=np.array(dsetA)\n"
   ]
  },
  {
   "cell_type": "code",
   "execution_count": 4,
   "id": "8f064ff1",
   "metadata": {},
   "outputs": [],
   "source": [
    "#Extract all the Latitudes,Longitude and Orientation(Quaternions) \n",
    "Long=dset[:,0] #Longitude\n",
    "Lat=dset[:,1]  #Latitude\n",
    "Alt = dset[:,2] #altitude\n",
    "q0=dset1[:,0]  #Quaternions 1\n",
    "q1=dset1[:,1]  #Quaternions 2\n",
    "q2=dset1[:,2]  ##Quaternions 3\n",
    "q3=dset1[:,3] ##Quaternions 4\n",
    "\n",
    "size= len(Long) #Size of the dataset ususally len(long)\n",
    "\n",
    "nest_asyncio.apply()\n"
   ]
  },
  {
   "cell_type": "code",
   "execution_count": 5,
   "id": "22c406a2",
   "metadata": {},
   "outputs": [],
   "source": [
    "#Initializing the values of the lever arms and IMU\n",
    "GNSS_lever_arm = np.array([-0.335, -0.424, -1.082])\n",
    "IMU_lever_arm = np.array([-0.181, -0.001, -0.206])\n",
    "IMU_angles = np.array([-0.201, 0.100, -0.229])\n",
    "ref_to_veh_angles = np.array([0, 0, 0])\n",
    "x_transformed =np.zeros((len(Long),1),dtype =np.float64)\n",
    "y_transformed =np.zeros((len(Long),1),dtype =np.float64)"
   ]
  },
  {
   "cell_type": "code",
   "execution_count": 6,
   "id": "e0d913d7",
   "metadata": {},
   "outputs": [],
   "source": [
    "def quat_to_rotmat(q0, q1, q2, q3):\n",
    "    #Converts quaternions q0, q1, q2, and q3 to a rotation matrix.\n",
    "    \n",
    "    R = np.zeros((3, 3))\n",
    "    R[0, 0] = 1 - 2*q2**2 - 2*q3**2\n",
    "    R[0, 1] = 2*q1*q2 - 2*q0*q3\n",
    "    R[0, 2] = 2*q0*q2 + 2*q1*q3\n",
    "    R[1, 0] = 2*q1*q2 + 2*q0*q3\n",
    "    R[1, 1] = 1 - 2*q1**2 - 2*q3**2\n",
    "    R[1, 2] = 2*q2*q3 - 2*q0*q1\n",
    "    R[2, 0] = 2*q1*q3 - 2*q0*q2\n",
    "    R[2, 1] = 2*q0*q1 + 2*q2*q3\n",
    "    R[2, 2] = 1 - 2*q1**2 - 2*q2**2\n",
    "    return R\n",
    "\n",
    "def GPS_data_Transformation(Long,Lat,q0,q1,q2,q3):\n",
    "    RotationM =np.zeros((len(Long),3,3),dtype =np.float64)\n",
    "\n",
    "    H =np.zeros((len(Long),4,4),dtype =np.float64)\n",
    "    \n",
    "    for i in range(0,len(q0)):\n",
    "        RotationM[i,:,:] = quat_to_rotmat(q0[i], q1[i], q2[i], q3[i])\n",
    "    #Generating the transformation matrix H which contain parameters \n",
    "    #to transform the GPS coordinates from the antenna coordinate system to the vehicle coordinate system.\n",
    "   \n",
    "    utm_proj = Proj(proj='utm', zone=32, ellps='WGS84')\n",
    "    x, y = utm_proj(Long, Lat) #Converting the local coordinate system to world coordinate system\n",
    "  \n",
    "    for i in range(len(Long)):\n",
    "        H[i,:,:] = np.eye(4)\n",
    "        H[i,:3, :3] = RotationM[i,:,:]\n",
    "        t = np.array([x[i], y[i], 0]) # GPS Longitude . latitude in x ,y,z\n",
    "        H[i,:3, 3] = t.flatten()\n",
    "\n",
    "    return H\n",
    "\n"
   ]
  },
  {
   "cell_type": "markdown",
   "id": "409c211f",
   "metadata": {},
   "source": [
    "When we created the H transformation matrix and used it with the test matrix T, we changed the coordinates from the antenna coordinate system to the vehicle coordinate system. The H matrix contains the rotation and translation parameters to transform the GPS coordinates from the antenna coordinate system to the vehicle coordinate system, while the test matrix T contains the rotation and translation parameters of the antenna coordinate system relative to the vehicle coordinate system. Multiplying H with T results in a new matrix, NewH, which is the transformation matrix for transforming GPS coordinates from the antenna coordinate system to the vehicle coordinate system. Therefore, the transformation process involves changing the coordinates from the antenna coordinate system to the vehicle coordinate system."
   ]
  },
  {
   "cell_type": "code",
   "execution_count": 7,
   "id": "2385fd3c",
   "metadata": {},
   "outputs": [],
   "source": [
    "def Verification_calibration(Long,Lat,q0,q1,q2,q3):\n",
    "    \n",
    "    #Reference points F1 and F2 and F3\n",
    "    F1=[0,0,0,1]\n",
    "    F2=[1,0,0,1]\n",
    "    F3=[0,1,0,1]\n",
    "\n",
    "\n",
    "    NewH=np.zeros((len(Long),4,4),dtype =np.float64)\n",
    "    NewF5=np.zeros((len(Long),4),dtype =np.float64)\n",
    "\n",
    "    T=np.eye(4)# # Creating a 4*4 matrix\n",
    "\n",
    "    R1=Rotation.from_euler(\"zx\",[201,180],degrees=True).as_matrix() #\n",
    "    #Rotation and translation parameters of the antenna coordinate system relative to the vehicle coordinate system\n",
    "\n",
    "    T[:3,:3]=R1 #moving the rotation parameters R1 to test matrix T\n",
    "    T1=T.copy() #Creating a copy to show the transformation without translations added\n",
    "    T[:3,3] = -np.matmul(R1,np.array([-0.335,-0.424, -1.082]))#Adding translations to the test matrix T\n",
    "    \n",
    "    H = GPS_data_Transformation(Long,Lat,q0,q1,q2,q3)\n",
    "\n",
    "    for i in range(0,len(Long)):\n",
    "        NewH[i,:,:]= np.matmul(H[i, :, :], T)#with translations\n",
    "        NewH1 = np.matmul(H[i, :, :], T1)#to show without translations \n",
    "        NewF1 = np.matmul(NewH[i,:,:], F1)\n",
    "        NewF2 = np.matmul(NewH[i,:,:], F2)\n",
    "        NewF3 = np.matmul(NewH[i,:,:], F3)\n",
    "        NewF4= np.matmul(NewH1, F1)\n",
    "        NewF5[i,:]=np.matmul(NewH[i,:,:], F4)\n",
    "\n",
    "\n",
    "        plt.plot([NewF1[0], NewF2[0]], [NewF1[1], NewF2[1]], 'b-')\n",
    "        plt.plot([NewF1[0], NewF3[0]], [NewF1[1], NewF3[1]], 'r-')\n",
    "        plt.plot(NewF4[0], NewF4[1], 'g.')\n",
    "\n",
    "    plt.axis('equal')\n",
    "    return plt.show()\n",
    "\n"
   ]
  },
  {
   "cell_type": "code",
   "execution_count": 9,
   "id": "01c5f9fd",
   "metadata": {},
   "outputs": [],
   "source": [
    "def GenerateCalibrated_data(Long,Lat,q0,q1,q2,q3):\n",
    "    F4=[1,1,1,1]\n",
    "    NewH1=np.zeros((len(Long),4,4),dtype =np.float64)\n",
    "    NewF5=np.zeros((len(Long),4),dtype =np.float64)\n",
    "\n",
    "    T=np.eye(4)# # Creating a 4*4 matrix\n",
    "\n",
    "    R1=Rotation.from_euler(\"zx\",[201,180],degrees=True).as_matrix() #\n",
    "    #Rotation and translation parameters of the antenna coordinate system relative to the vehicle coordinate system\n",
    "\n",
    "    T[:3,:3]=R1 #moving the rotation parameters R1 to test matrix T\n",
    "    T1=T.copy() #Creating a copy to show the transformation without translations added\n",
    "    T[:3,3] = -np.matmul(R1,np.array([-0.335,-0.424, -1.082]))#Adding translations to the test matrix T\n",
    "    \n",
    "    H1 = GPS_data_Transformation(Long,Lat,q0,q1,q2,q3)\n",
    "\n",
    "    for i in range(0,len(Long)):\n",
    "        NewH1[i,:,:]= np.matmul(H1[i, :, :], T)#with translations\n",
    "        NewF5[i,:]=np.matmul(NewH1[i,:,:], F4)\n",
    "        \n",
    "    \n",
    "    utm_proj = Proj(proj='utm', zone=32, ellps='WGS84')\n",
    "    longitude, latitude = utm_proj(NewF5[:,0], NewF5[:,1], inverse=True)\n",
    "    \n",
    "    \n",
    "    return longitude, latitude\n",
    "\n"
   ]
  },
  {
   "cell_type": "code",
   "execution_count": 10,
   "id": "3127d964",
   "metadata": {},
   "outputs": [],
   "source": [
    "a,x=GenerateCalibrated_data(Long,Lat,q0,q1,q2,q3)"
   ]
  },
  {
   "cell_type": "code",
   "execution_count": 11,
   "id": "0c9290ab",
   "metadata": {},
   "outputs": [
    {
     "data": {
      "text/plain": [
       "[<matplotlib.lines.Line2D at 0x1c3b09c1788>]"
      ]
     },
     "execution_count": 11,
     "metadata": {},
     "output_type": "execute_result"
    },
    {
     "data": {
      "image/png": "[encoded data removed]",
      "text/plain": [
       "<Figure size 432x288 with 1 Axes>"
      ]
     },
     "metadata": {
      "needs_background": "light"
     },
     "output_type": "display_data"
    }
   ],
   "source": [
    "\n",
    "plt.plot(a,x,'b-')\n",
    "plt.plot(Long,Lat,'r-')\n",
    "# mplleaflet.display()"
   ]
  },
  {
   "cell_type": "code",
   "execution_count": 139,
   "id": "9de32903",
   "metadata": {},
   "outputs": [],
   "source": [
    "#Convert the GPS longitude and latitude points to a text file with a delimeter."
   ]
  },
  {
   "cell_type": "code",
   "execution_count": 140,
   "id": "f02fc3b5",
   "metadata": {},
   "outputs": [],
   "source": [
    "# x_transformed=longitude.ravel()\n",
    "# y_transformed=latitude.ravel()\n",
    "# delimiter = \",\" # Set the delimiter as a comma\n",
    "\n",
    "# filename = \"C:/Users/bjqb7h/Downloads/Thesis2022/gps_data11.txt\" # Set the full path of the file\n",
    "\n",
    "# with open(filename, \"w\") as f:\n",
    "#     for i in range(len(Lat)):\n",
    "#         f.write(str(x_transformed[i]) + delimiter + str(y_transformed[i]) + \"\\n\")"
   ]
  }
 ],
 "metadata": {
  "kernelspec": {
   "display_name": "Python 3 (ipykernel)",
   "language": "python",
   "name": "python3"
  },
  "language_info": {
   "codemirror_mode": {
    "name": "ipython",
    "version": 3
   },
   "file_extension": ".py",
   "mimetype": "text/x-python",
   "name": "python",
   "nbconvert_exporter": "python",
   "pygments_lexer": "ipython3",
   "version": "3.7.15"
  }
 },
 "nbformat": 4,
 "nbformat_minor": 5
}
